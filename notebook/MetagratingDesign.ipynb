{
 "cells": [
  {
   "cell_type": "markdown",
   "metadata": {},
   "source": [
    "# Metagrating design and analysis"
   ]
  },
  {
   "cell_type": "markdown",
   "metadata": {},
   "source": [
    "A polarization-insensitive metagrating based on propagation phase modulation mechanism is designed and analyzed."
   ]
  },
  {
   "cell_type": "markdown",
   "metadata": {},
   "source": [
    "## 0. Prepare"
   ]
  },
  {
   "cell_type": "code",
   "execution_count": 1,
   "metadata": {},
   "outputs": [],
   "source": [
    "import importlib.util\n",
    "# import lumapi\n",
    "spec = importlib.util.spec_from_file_location('lumapi', 'D:\\\\Program Files\\\\Lumerical\\\\v241\\\\api\\\\python\\\\lumapi.py')\n",
    "lumapi = importlib.util.module_from_spec(spec)\n",
    "spec.loader.exec_module(lumapi)"
   ]
  },
  {
   "cell_type": "code",
   "execution_count": 2,
   "metadata": {},
   "outputs": [],
   "source": [
    "import time\n",
    "import sys\n",
    "import numpy as np\n",
    "import pandas as pd\n",
    "import matplotlib.pyplot as plt"
   ]
  },
  {
   "cell_type": "code",
   "execution_count": 3,
   "metadata": {},
   "outputs": [],
   "source": [
    "# import custom modules\n",
    "sys.path.append(\"../module\")\n",
    "from FieldPropagation import fieldPropagationLumapi, em_field\n",
    "from MetaTool import nk2permittivity, setResources, phaseDis, phaseNorm, extendField"
   ]
  },
  {
   "cell_type": "markdown",
   "metadata": {},
   "source": [
    "## 1. Constants, classes and functions"
   ]
  },
  {
   "cell_type": "code",
   "execution_count": 7,
   "metadata": {},
   "outputs": [],
   "source": [
    "# colorbar setting\n",
    "cmap_amp = \"Reds\"  # amplitude use\n",
    "cmap_ang = \"RdBu_r\"  # angle (phase) use"
   ]
  },
  {
   "cell_type": "code",
   "execution_count": 8,
   "metadata": {},
   "outputs": [],
   "source": [
    "def factor2pi(phi, near_zero=1e-9):\n",
    "    \"\"\" \n",
    "    Solve the positive integer `x` to have: `x` * `phi` is an integer multiple of 2\\pi\n",
    "    @param phi: base number\n",
    "    @param near_zero: numerical error to judge whether x` * `phi` is an integer multiple of 2\\pi\n",
    "    @return: `x`, an positive integer\n",
    "    \"\"\"\n",
    "    x = 1\n",
    "    while True:\n",
    "        if np.abs((phi * x / np.pi) % 2) < near_zero or np.abs((phi * x / np.pi) % 2 - 2) < near_zero:\n",
    "            break\n",
    "        else:\n",
    "            x += 1\n",
    "    return x"
   ]
  },
  {
   "cell_type": "markdown",
   "metadata": {},
   "source": [
    "## 2. Parameters"
   ]
  },
  {
   "cell_type": "markdown",
   "metadata": {},
   "source": [
    "Here we design a polarization-insensitive metagrating along x-direction using the cylinder meta-atoms. \n",
    "\n",
    "In simulation, we use the x-polarized incident light."
   ]
  },
  {
   "cell_type": "code",
   "execution_count": 12,
   "metadata": {},
   "outputs": [],
   "source": [
    "# define destination phase profile\n",
    "delta_phi = 2 / 5 * np.pi  # phase shift difference between adjacent meta-atoms\n",
    "rows = 1  # row number of meta-atoms. Fix to 1\n",
    "cols = factor2pi(delta_phi)  # column number of meta-atoms to realize 2*N*\\pi phase change, where N is arbitrary positive integer \n",
    "phase_profile_dest = phaseNorm(np.arange(-np.pi, -np.pi + delta_phi * cols, delta_phi)).reshape((rows, cols))"
   ]
  },
  {
   "cell_type": "code",
   "execution_count": 13,
   "metadata": {},
   "outputs": [
    {
     "data": {
      "image/png": "[encoded data removed]",
      "text/plain": [
       "<Figure size 640x480 with 2 Axes>"
      ]
     },
     "metadata": {},
     "output_type": "display_data"
    }
   ],
   "source": [
    "# draw the spatial phase profile\n",
    "fig = plt.figure()\n",
    "c = plt.pcolor(np.rad2deg(phase_profile_dest), cmap=cmap_ang)\n",
    "plt.xlabel(\"$x$\")\n",
    "plt.ylabel(\"$y$\")\n",
    "plt.title(\"$Target \\enspace phase \\enspace profile$\")\n",
    "fig.colorbar(c)\n",
    "plt.gca().set_aspect(1)\n",
    "plt.show()"
   ]
  },
  {
   "cell_type": "code",
   "execution_count": 14,
   "metadata": {},
   "outputs": [],
   "source": [
    "# parameters\n",
    "# control parameters\n",
    "hide = False  # whether to hide GUI or not\n",
    "\n",
    "# spectral\n",
    "wavelength_number = 1  # the number of discrete points of the spectral\n",
    "wavelength = 633e-9  # operating wavelength [m]\n",
    "wavelength_min = wavelength\n",
    "wavelength_max = wavelength\n",
    "source_polarization = np.deg2rad(0)  # the angle of polarization to the x axis [rad]\n",
    "\n",
    "# metasurface hologram parameters\n",
    "unit_size = 300e-9  # unit size [m]\n",
    "units_rows = rows  # the number of rows of metasurface units\n",
    "units_cols = cols  # the number of columns of metasurface units\n",
    "offset_x = units_cols / 2 * unit_size - unit_size / 2  # the offset of metasurface in the x direction relative to the center\n",
    "offset_y = units_rows / 2 * unit_size - unit_size / 2  # the offset of metasurface in the y direction relative to the center\n",
    "\n",
    "# simulation objects\n",
    "material_atom = \"TiO2\"\n",
    "material_substrate = \"Al2O3 - Palik\"\n",
    "\n",
    "separation = wavelength_max / 2  # safe spacing between the objects and simulation boundaries\n",
    "sep_ub_t = separation  # spacing between upper bound and transmission plane\n",
    "sep_t_atom = separation  # spacing between transmission plane and atom\n",
    "sep_interface_source = separation * 0.5  # spacing between interface (atom / substrate) and source\n",
    "sep_source_lb = separation * 0.5  # spacing between source and lower bound\n",
    "height_atom = 500e-9  # [m]\n",
    "height_substrate = separation * 2  # [m]. If 0, no substrate\n",
    "\n",
    "# simulation size\n",
    "sim_x_span = unit_size * units_cols\n",
    "sim_y_span = unit_size * units_rows\n",
    "sim_z_span = sep_ub_t + sep_t_atom + height_atom + sep_interface_source + sep_source_lb\n",
    "\n",
    "# boundary conditions: PML / Period / Bloch / (Anti-)Symmetric\n",
    "boundary_x_min = \"Period\"\n",
    "boundary_x_max = \"Period\"\n",
    "boundary_y_min = \"Period\"\n",
    "boundary_y_max = \"Period\"\n",
    "boundary_z_min = \"PML\"\n",
    "boundary_z_max = \"PML\"\n",
    "\n",
    "# mesh settings (automate mesh)\n",
    "mesh_accuracy = 2"
   ]
  },
  {
   "cell_type": "code",
   "execution_count": 15,
   "metadata": {},
   "outputs": [
    {
     "name": "stdout",
     "output_type": "stream",
     "text": [
      "Diffraction angle: 24.960920385773164 (deg)\n"
     ]
    }
   ],
   "source": [
    "# solve diffraction angle of metagrating\n",
    "diffraction_angle = np.arcsin((delta_phi / unit_size) * wavelength / (2 * np.pi))\n",
    "print(\"Diffraction angle: {} (deg)\".format(np.rad2deg(diffraction_angle)))"
   ]
  },
  {
   "cell_type": "markdown",
   "metadata": {},
   "source": [
    "## 3. Arrangement of library meta-atoms"
   ]
  },
  {
   "cell_type": "markdown",
   "metadata": {},
   "source": [
    "Here we use the propagation phase meta-atom library built by the notebook `PropagationPhaseMetasurface.ipynb`."
   ]
  },
  {
   "cell_type": "code",
   "execution_count": 16,
   "metadata": {},
   "outputs": [],
   "source": [
    "# load library\n",
    "with open('../data/propagation_library.npy', 'rb') as f:\n",
    "    radius_vec = np.load(f)\n",
    "    phase_vec = np.load(f)\n",
    "    t_vec = np.load(f)"
   ]
  },
  {
   "cell_type": "code",
   "execution_count": 17,
   "metadata": {},
   "outputs": [],
   "source": [
    "def fom(phase_dest, phase, t):\n",
    "    \"\"\" \n",
    "    Figure of merit \n",
    "    \"\"\"\n",
    "    tolerance_phase = np.deg2rad(5)  # phase error we can tolerate considering solving accuracy\n",
    "    lambda_phase = 2e0  # weight for phase item\n",
    "    lambda_t = 1e0  # weight for transmittance item\n",
    "    return phaseDis(phase, phase_dest) * (phaseDis(phase, phase_dest) > tolerance_phase) * lambda_phase + \\\n",
    "        (-1) * t * lambda_t"
   ]
  },
  {
   "cell_type": "code",
   "execution_count": 18,
   "metadata": {},
   "outputs": [],
   "source": [
    "# sort phase and make dictionary of index and order\n",
    "phase_sort_vec = sorted(enumerate(phase_vec), key=lambda x:x[1])\n",
    "index_order_dict = {phase_sort_vec[i][0]: i for i in range(len(phase_sort_vec))}\n",
    "order_index_dict = {i: phase_sort_vec[i][0] for i in range(len(phase_sort_vec))}"
   ]
  },
  {
   "cell_type": "code",
   "execution_count": 19,
   "metadata": {},
   "outputs": [],
   "source": [
    "# choose suitable meta-atom from library\n",
    "units_pos_r_dict = {}  # dictionary for metasurface units (position and radius)\n",
    "for i in range(units_rows):\n",
    "    for j in range(units_cols):\n",
    "        phase_dest = phase_profile_dest[i, j]\n",
    "        matched = False\n",
    "        tolerance = np.deg2rad(15)\n",
    "        while not matched:\n",
    "            index_begin = 0\n",
    "            index_end = len(phase_sort_vec) - 1\n",
    "            # special cases\n",
    "            if phase_sort_vec[index_end][1] <= phase_dest - tolerance:\n",
    "                index_begin = index_end\n",
    "            elif phase_sort_vec[index_begin][1] >= phase_dest + tolerance:\n",
    "                index_end = index_begin\n",
    "            # general case\n",
    "            else:\n",
    "                while phase_sort_vec[index_begin][1] < phase_dest - tolerance:\n",
    "                    index_begin += 1\n",
    "                while phase_sort_vec[index_end][1] > phase_dest + tolerance:\n",
    "                    index_end -= 1\n",
    "\n",
    "            if index_end < index_begin:\n",
    "                # not matched\n",
    "                tolerance *= 2\n",
    "            else:\n",
    "                # range: [index_begin, index_end]\n",
    "                fom_min = np.inf\n",
    "                index_lib_best = 0\n",
    "                for ii in range(index_begin, index_end + 1, 1):\n",
    "                    index = order_index_dict[ii]\n",
    "                    fom_current = fom(phase_dest, phase_vec[index], t_vec[index])\n",
    "                    if fom_current < fom_min:\n",
    "                        fom_min = fom_current\n",
    "                        index_lib_best = index\n",
    "                units_pos_r_dict[(i, j)] = radius_vec[index_lib_best]\n",
    "                matched = True"
   ]
  },
  {
   "cell_type": "markdown",
   "metadata": {},
   "source": [
    "## 4. Simulation"
   ]
  },
  {
   "cell_type": "code",
   "execution_count": 20,
   "metadata": {},
   "outputs": [
    {
     "name": "stdout",
     "output_type": "stream",
     "text": [
      ">> Progress: FDTD is opened.\n"
     ]
    }
   ],
   "source": [
    "# open fdtd\n",
    "fdtd = lumapi.FDTD(hide=hide)\n",
    "print(\">> Progress: FDTD is opened.\")"
   ]
  },
  {
   "cell_type": "code",
   "execution_count": 21,
   "metadata": {},
   "outputs": [
    {
     "name": "stdout",
     "output_type": "stream",
     "text": [
      ">> Progress: Adding material TiO2 is done.\n"
     ]
    }
   ],
   "source": [
    "# add material\n",
    "material_name = \"TiO2\"\n",
    "material_df = pd.read_csv(\"../material/TiO2.csv\")\n",
    "material_np = np.array(material_df)\n",
    "# obtain the frequency array\n",
    "wavelength_array = material_np[:, 0] * 1e-6  # [m]\n",
    "frequency_array = fdtd.c() / wavelength_array\n",
    "# obtain the complex permittivity array from (n, k)\n",
    "permittivity_array = nk2permittivity(material_np[:, 1], material_np[:, 2])\n",
    "# combine\n",
    "sampled_data = np.vstack((frequency_array, permittivity_array)).T\n",
    "# add\n",
    "temp = fdtd.addmaterial(\"Sampled data\")\n",
    "fdtd.setmaterial(temp, \"name\", material_name)  # rename the material\n",
    "fdtd.setmaterial(material_name, \"max coefficients\", 6)  # set the number of coefficients\n",
    "fdtd.setmaterial(material_name, \"color\", np.array([255 / 255, 69 / 255, 0 / 255, 1]))\n",
    "fdtd.setmaterial(material_name, \"sampled data\", sampled_data)\n",
    "print(\">> Progress: Adding material \" + material_name + \" is done.\")"
   ]
  },
  {
   "cell_type": "code",
   "execution_count": 22,
   "metadata": {},
   "outputs": [],
   "source": [
    "# resource settings \n",
    "parallel_job_number = 1\n",
    "processes = 2\n",
    "threads = 1\n",
    "capacity = 1\n",
    "job_launching_preset = \"Remote: Intel MPI\"  # \"Remote: Microsoft MPI\" / \"Remote: Intel MPI\"\n",
    "\n",
    "setResources(fdtd, parallel_job_number=parallel_job_number, processes=processes, \\\n",
    "    threads=threads, capacity=capacity, job_launching_preset=job_launching_preset)"
   ]
  },
  {
   "cell_type": "code",
   "execution_count": 23,
   "metadata": {},
   "outputs": [],
   "source": [
    "# define basic objects\n",
    "# make sure in layout mode\n",
    "if fdtd.layoutmode() != 1:  # layoutmode() return 0 when in analysis mode\n",
    "    fdtd.switchtolayout()\n",
    "\n",
    "fdtd.deleteall()  # clear objects\n",
    "\n",
    "# source\n",
    "source = fdtd.addplane(\n",
    "    name=\"source\",\n",
    "    # size\n",
    "    x=0,\n",
    "    x_span=sim_x_span,\n",
    "    y=0,\n",
    "    y_span=sim_y_span,\n",
    "    z=-sep_interface_source,\n",
    "    # propagation direction\n",
    "    injection_axis=\"z\",\n",
    "    direction=\"forward\",\n",
    "    angle_theta=0,\n",
    "    angle_phi=0,\n",
    "    amplitude=1,\n",
    "    # polarization direction\n",
    "    polarization_angle=np.rad2deg(source_polarization),\n",
    "    # phase\n",
    "    phase=0,\n",
    "    # bandwidth\n",
    "    wavelength_start=wavelength_min,\n",
    "    wavelength_stop=wavelength_max,\n",
    ")\n",
    "\n",
    "# FDTD\n",
    "sim_region = fdtd.addfdtd(\n",
    "    dimension=\"3D\",\n",
    "    x=0.0,\n",
    "    x_span=sim_x_span,\n",
    "    y=0.0,\n",
    "    y_span=sim_y_span,\n",
    "    z_min=-(sep_interface_source + sep_source_lb),\n",
    "    z_max=height_atom + sep_t_atom + sep_ub_t,\n",
    "    # boundary condition\n",
    "    x_min_bc=boundary_x_min,\n",
    "    x_max_bc=boundary_x_max,\n",
    "    y_min_bc=boundary_y_min,\n",
    "    y_max_bc=boundary_y_max,\n",
    "    z_min_bc=boundary_z_min,\n",
    "    z_max_bc=boundary_z_max,\n",
    "    pml_layers=8,\n",
    "    auto_shutoff_min=1e-5,\n",
    "    mesh_accuracy=mesh_accuracy\n",
    ")\n",
    "\n",
    "# monitor\n",
    "fdtd.setglobalmonitor(\"frequency points\", wavelength_number)  # global settings\n",
    "power_profile_t = fdtd.addpower(\n",
    "    name=\"power profile T\",\n",
    "    monitor_type=\"2D Z-normal\",\n",
    "    x=0.0,\n",
    "    x_span=sim_x_span,\n",
    "    y=0.0,\n",
    "    y_span=sim_y_span,\n",
    "    z=height_atom + sep_t_atom,\n",
    ")\n",
    "\n",
    "# substrate\n",
    "substrate = fdtd.addrect(\n",
    "    name=\"substrate\",\n",
    "    x=0.0, \n",
    "    y=0.0,\n",
    "    x_span=sim_x_span,\n",
    "    y_span=sim_y_span,\n",
    "    z_max=0,\n",
    "    z_min=-height_substrate,\n",
    "    material=material_substrate\n",
    ")\n",
    "# meta-atoms\n",
    "atoms = []\n",
    "for pos in units_pos_r_dict:\n",
    "    x = pos[1] * unit_size - offset_x\n",
    "    y = pos[0] * unit_size - offset_y\n",
    "    radius = units_pos_r_dict[pos]\n",
    "    atoms.append(fdtd.addcircle(\n",
    "        name=\"atom_\" + str(pos[0]) + \"/\" + str(pos[1]),\n",
    "        x=x,\n",
    "        y=y,\n",
    "        radius=radius,\n",
    "        z_min=0,\n",
    "        z_max=height_atom,\n",
    "        material=material_atom\n",
    "    ))"
   ]
  },
  {
   "cell_type": "code",
   "execution_count": 24,
   "metadata": {},
   "outputs": [],
   "source": [
    "fdtd.save(\"../fsp/metagrating.fsp\")  # save simulation"
   ]
  },
  {
   "cell_type": "code",
   "execution_count": 25,
   "metadata": {},
   "outputs": [
    {
     "name": "stdout",
     "output_type": "stream",
     "text": [
      "Run time cost: 17.21160350000001s.\n"
     ]
    }
   ],
   "source": [
    "t1 = time.perf_counter()  # begin time count\n",
    "fdtd.run()  # run\n",
    "t2 = time.perf_counter()  # end time count\n",
    "print(\"Run time cost: {}s.\".format(t2 - t1))"
   ]
  },
  {
   "cell_type": "markdown",
   "metadata": {},
   "source": [
    "## 5. Near field analysis"
   ]
  },
  {
   "cell_type": "code",
   "execution_count": 26,
   "metadata": {},
   "outputs": [],
   "source": [
    "# obtain data\n",
    "mesh_x_vec = fdtd.getdata(power_profile_t.name, 'x')[:, 0]\n",
    "mesh_y_vec = fdtd.getdata(power_profile_t.name, 'y')[:, 0]\n",
    "power_profile_t_e = fdtd.getresult(power_profile_t.name, 'E')\n",
    "e_t_x_mat = power_profile_t_e['E'][:, :, 0, 0, 0]\n",
    "e_t_y_mat = power_profile_t_e['E'][:, :, 0, 0, 1]\n",
    "e_t_z_mat = power_profile_t_e['E'][:, :, 0, 0, 2]\n",
    "t = fdtd.getresult(power_profile_t.name, 'T')['T'][0]"
   ]
  },
  {
   "cell_type": "code",
   "execution_count": 27,
   "metadata": {},
   "outputs": [
    {
     "data": {
      "image/png": "[encoded data removed]",
      "text/plain": [
       "<Figure size 1200x400 with 4 Axes>"
      ]
     },
     "metadata": {},
     "output_type": "display_data"
    }
   ],
   "source": [
    "# draw the near field distribution\n",
    "sep = 1  # sample the dense monitor data\n",
    "\n",
    "fig = plt.figure(figsize=(12, 4))\n",
    "plt.subplot(1, 2, 1)\n",
    "c = plt.pcolor(\n",
    "    mesh_x_vec[::sep],\n",
    "    mesh_y_vec[::sep],\n",
    "    np.abs(e_t_x_mat[::sep, ::sep]).T, \n",
    "    cmap=cmap_amp\n",
    ")\n",
    "fig.colorbar(c)\n",
    "plt.xlabel(r\"$x \\enspace / \\enspace m$\")\n",
    "plt.ylabel(r\"$y \\enspace / \\enspace m$\")\n",
    "plt.title(r\"$E_{T, x} \\enspace amplitude \\enspace profile$\")\n",
    "plt.axis(\"scaled\")\n",
    "\n",
    "plt.subplot(1, 2, 2)\n",
    "c = plt.pcolor(\n",
    "    mesh_x_vec[::sep],\n",
    "    mesh_y_vec[::sep],\n",
    "    np.rad2deg(np.angle(e_t_x_mat[::sep, ::sep])).T, \n",
    "    cmap=cmap_ang\n",
    ")\n",
    "fig.colorbar(c)\n",
    "plt.xlabel(r\"$x \\enspace / \\enspace m$\")\n",
    "plt.ylabel(r\"$y \\enspace / \\enspace m$\")\n",
    "plt.title(r\"$E_{T, x} \\enspace phase \\enspace profile$\")\n",
    "plt.axis(\"scaled\")\n",
    "plt.show()"
   ]
  },
  {
   "cell_type": "code",
   "execution_count": 28,
   "metadata": {},
   "outputs": [
    {
     "data": {
      "text/plain": [
       "0.9064910398107868"
      ]
     },
     "execution_count": 28,
     "metadata": {},
     "output_type": "execute_result"
    }
   ],
   "source": [
    "t"
   ]
  },
  {
   "cell_type": "markdown",
   "metadata": {},
   "source": [
    "## 6. Far field analysis"
   ]
  },
  {
   "cell_type": "markdown",
   "metadata": {},
   "source": [
    "Here we calculate the diffraction pattern on the observation plane."
   ]
  },
  {
   "cell_type": "code",
   "execution_count": 29,
   "metadata": {},
   "outputs": [
    {
     "name": "stdout",
     "output_type": "stream",
     "text": [
      "x: 15.0 um\n",
      "y: 9.0 um\n"
     ]
    }
   ],
   "source": [
    "# extend the period near field to practical finite size\n",
    "extend_x = 10  # extend number on the x-direction\n",
    "extend_y = 30  # extend number on the x-direction\n",
    "print(\"x: {} um\".format((unit_size * units_cols * extend_x) * 1e6))\n",
    "print(\"y: {} um\".format((unit_size * units_rows * extend_y) * 1e6))"
   ]
  },
  {
   "cell_type": "code",
   "execution_count": 30,
   "metadata": {},
   "outputs": [],
   "source": [
    "# define destination region (observation plane)\n",
    "observe_z = 1  # z of the observation plane [m]\n",
    "observe_x_half_span = 1.5  # half span of the observation plane along x [m]\n",
    "observe_y_half_span = 0.1  # half span of the observation plane along y [m]\n",
    "dest_x_vec = np.linspace(-observe_x_half_span, observe_x_half_span, 161)\n",
    "dest_y_vec = np.linspace(-observe_y_half_span, observe_y_half_span, 21)\n",
    "\n",
    "# extend field\n",
    "x_extend_vec, y_extend_vec, e_extend_mat, h_extend_mat = extendField(\n",
    "    mesh_x_vec, mesh_y_vec, \n",
    "    fdtd.getresult(power_profile_t.name, 'E')['E'], fdtd.getresult(power_profile_t.name, 'H')['H'], \n",
    "    unit_size * units_cols, unit_size * units_rows, extend_x, extend_y\n",
    ")\n",
    "\n",
    "# define near field\n",
    "near_field = em_field(\n",
    "    [wavelength],\n",
    "    x_extend_vec,\n",
    "    y_extend_vec,\n",
    "    [0],\n",
    "    e_extend_mat,\n",
    "    h_extend_mat\n",
    ")\n",
    "\n",
    "# solve far field\n",
    "# # no down sampling\n",
    "# fdtd.farfieldsettings(\"override near field mesh\", False)\n",
    "# down samplint\n",
    "fdtd.farfieldsettings(\"override near field mesh\", True)  # down sample the near field to speed up far field projections\n",
    "fdtd.farfieldsettings(\"near field samples per wavelength\", 4)  # if 2, at Nyquist limit\n",
    "\n",
    "e_far_field_observe = fieldPropagationLumapi(near_field, dest_x_vec, dest_y_vec, \\\n",
    "    [observe_z], wavelength_index_vec=np.arange(0, 1), fdtd=fdtd)\n",
    "e_far_field_observe_x = e_far_field_observe[:, :, 0, 0, 0]\n",
    "e_far_field_observe_y = e_far_field_observe[:, :, 0, 1, 0]\n",
    "e_far_field_observe_z = e_far_field_observe[:, :, 0, 2, 0]\n",
    "e_far_field_focal_intensity = np.abs(e_far_field_observe_x) ** 2 + np.abs(e_far_field_observe_y) ** 2 + np.abs(e_far_field_observe_z) ** 2"
   ]
  },
  {
   "cell_type": "code",
   "execution_count": 31,
   "metadata": {},
   "outputs": [
    {
     "data": {
      "image/png": "[encoded data removed]",
      "text/plain": [
       "<Figure size 640x480 with 2 Axes>"
      ]
     },
     "metadata": {},
     "output_type": "display_data"
    }
   ],
   "source": [
    "# Ex intensity on the observation plane\n",
    "fig = plt.figure()\n",
    "c = plt.pcolor(\n",
    "    dest_x_vec, dest_y_vec, \n",
    "    (np.abs(e_far_field_observe_x) ** 2).T, \n",
    "    cmap=cmap_amp\n",
    ")\n",
    "fig.colorbar(c)\n",
    "plt.xlabel(r\"$x \\enspace / \\enspace m$\")\n",
    "plt.ylabel(r\"$y \\enspace / \\enspace m$\")\n",
    "plt.title(r\"$E_{x} \\enspace intensity \\enspace profile$\")\n",
    "plt.axis(\"scaled\")\n",
    "plt.show()"
   ]
  },
  {
   "cell_type": "code",
   "execution_count": 32,
   "metadata": {},
   "outputs": [
    {
     "name": "stdout",
     "output_type": "stream",
     "text": [
      "Destination x position: 0.4654775433242962 m\n"
     ]
    }
   ],
   "source": [
    "# solve the destination x position for the diffracted light\n",
    "x_dest = observe_z * np.tan(diffraction_angle)\n",
    "print(\"Destination x position: {} m\".format(x_dest))"
   ]
  },
  {
   "cell_type": "code",
   "execution_count": 33,
   "metadata": {},
   "outputs": [
    {
     "data": {
      "image/png": "[encoded data removed]",
      "text/plain": [
       "<Figure size 600x400 with 1 Axes>"
      ]
     },
     "metadata": {},
     "output_type": "display_data"
    }
   ],
   "source": [
    "# 1D profile of the diffraction pattern\n",
    "plt.figure(figsize=(6, 4))\n",
    "plt.plot(dest_x_vec, (np.abs(e_far_field_observe_x[:, round(len(dest_y_vec) / 2)]) ** 2))\n",
    "plt.axvline(x_dest, linestyle=\"--\", color=\"tab:pink\")\n",
    "plt.xlabel(r\"$x \\enspace / \\enspace m$\")\n",
    "plt.ylabel(r\"$|E_x|^2$\")\n",
    "plt.title(r\"$E_{x} \\enspace intensity \\enspace profile \\enspace (1D)$\")\n",
    "plt.show()"
   ]
  },
  {
   "cell_type": "code",
   "execution_count": null,
   "metadata": {},
   "outputs": [],
   "source": [
    "# # close FDTD\n",
    "# fdtd.close()"
   ]
  },
  {
   "cell_type": "code",
   "execution_count": null,
   "metadata": {},
   "outputs": [],
   "source": []
  }
 ],
 "metadata": {
  "kernelspec": {
   "display_name": "basic",
   "language": "python",
   "name": "python3"
  },
  "language_info": {
   "codemirror_mode": {
    "name": "ipython",
    "version": 3
   },
   "file_extension": ".py",
   "mimetype": "text/x-python",
   "name": "python",
   "nbconvert_exporter": "python",
   "pygments_lexer": "ipython3",
   "version": "3.9.0"
  },
  "orig_nbformat": 4
 },
 "nbformat": 4,
 "nbformat_minor": 2
}
